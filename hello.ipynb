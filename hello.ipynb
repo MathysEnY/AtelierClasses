{
 "cells": [
  {
   "cell_type": "markdown",
   "metadata": {},
   "source": [
    "# Atelier classes private"
   ]
  },
  {
   "cell_type": "code",
   "execution_count": 2,
   "metadata": {},
   "outputs": [
    {
     "ename": "CompilerException",
     "evalue": "",
     "output_type": "error",
     "traceback": [
      "\u001b[0m\u001b[1m\u001b[31mCompile error:\u001b[0m",
      "\u001b[0m\u001b[1;30m|    class Article\u001b[0m",
      "\u001b[0m\u001b[1;30m|    {\u001b[0m",
      "\u001b[0m\u001b[1;30m|        private String nom;\u001b[0m",
      "\u001b[0m\u001b[1;30m|        private double prix;\u001b[0m",
      "\u001b[0m\u001b[1;30m|        // Constructeur : initialise les attributs \u001b[0m",
      "\u001b[0m\u001b[1;30m|        public Article(String n, double p)\u001b[0m",
      "\u001b[0m\u001b[1;30m|        {\u001b[0m",
      "\u001b[0m\u001b[1;30m|            if(p<=0)\u001b[0m",
      "\u001b[0m\u001b[1;30m|            {\u001b[0m",
      "\u001b[0m\u001b[1;30m|                throw new IllegalArgumentException(\"Le prix doit être strictement positif\") ;\u001b[0m",
      "\u001b[0m\u001b[1;30m|            }\u001b[0m",
      "\u001b[0m\u001b[1;30m|            this.prix = p;\u001b[0m",
      "\u001b[0m\u001b[1;30m|            if(n.length<2)\u001b[0m",
      "\u001b[0m\u001b[1;30m|            {\u001b[0m",
      "\u001b[0m\u001b[1;30m|                throw new IllegalArgumentException(\"Le nom de l'article doit faire au moins 2 caractères\") ;\u001b[0m",
      "\u001b[0m\u001b[1;30m|            }\u001b[0m",
      "\u001b[0m\u001b[1;30m|            this.nom = n;\u001b[0m",
      "\u001b[0m\u001b[1;30m|        }\u001b[0m",
      "\u001b[0m\u001b[1;30m|        // Méthode classique\u001b[0m",
      "\u001b[0m\u001b[1;30m|        public void augmenter(double taux)\u001b[0m",
      "\u001b[0m\u001b[1;30m|        {\u001b[0m",
      "\u001b[0m\u001b[1;30m|            if(taux<=0)\u001b[0m",
      "\u001b[0m\u001b[1;30m|            {\u001b[0m",
      "\u001b[0m\u001b[1;30m|                throw new IllegalArgumentException(\"Le taux doit être strictement positif\") ;\u001b[0m",
      "\u001b[0m\u001b[1;30m|            }\u001b[0m",
      "\u001b[0m\u001b[1;30m|            this.prix = this.prix * (1+taux);\u001b[0m",
      "\u001b[0m\u001b[1;30m|        }\u001b[0m",
      "\u001b[0m\u001b[1;30m|        // Accesseurs\u001b[0m",
      "\u001b[0m\u001b[1m|        public String getNom()\u001b[0m\u001b[1m\u001b[48;2;235;145;148m\u001b[0m\u001b[1m\u001b[0m",
      "\u001b[0m\u001b[1m                               ^\u001b[0m",
      "\u001b[0m\u001b[1;30m|    \u001b[0m",
      "\u001b[0m\u001b[1;30m|        public void setPrix(double nouveauPrix)\u001b[0m",
      "\u001b[0m\u001b[1;30m|        {\u001b[0m",
      "\u001b[0m\u001b[1;30m|            if(nouveauPrix<=0)\u001b[0m",
      "\u001b[0m\u001b[1;30m|            {\u001b[0m",
      "\u001b[0m\u001b[1;30m|                throw new  IllegalArgumentException(\"Le prix doit être strictement positif\") ;\u001b[0m",
      "\u001b[0m\u001b[1;30m|            }\u001b[0m",
      "\u001b[0m\u001b[1;30m|            this.prix = nouveauPrix;\u001b[0m",
      "\u001b[0m\u001b[1;30m|        }\u001b[0m",
      "\u001b[0m\u001b[1;30m|    }\u001b[0m",
      "\u001b[0m\u001b[1m\u001b[34m';' expected\u001b[0m",
      ""
     ]
    }
   ],
   "source": [
    "class Article\n",
    "{\n",
    "    private String nom;\n",
    "    private double prix;\n",
    "    // Constructeur : initialise les attributs \n",
    "    public Article(String n, double p)\n",
    "    {\n",
    "        if(p<=0)\n",
    "        {\n",
    "            throw new IllegalArgumentException(\"Le prix doit être strictement positif\") ;\n",
    "        }\n",
    "        this.prix = p;\n",
    "        if(n.length<2)\n",
    "        {\n",
    "            throw new IllegalArgumentException(\"Le nom de l'article doit faire au moins 2 caractères\") ;\n",
    "        }\n",
    "        this.nom = n;\n",
    "    }\n",
    "    // Méthode classique\n",
    "    public void augmenter(double taux)\n",
    "    {\n",
    "        if(taux<=0)\n",
    "        {\n",
    "            throw new IllegalArgumentException(\"Le taux doit être strictement positif\") ;\n",
    "        }\n",
    "        this.prix = this.prix * (1+taux);\n",
    "    }\n",
    "    // Accesseurs\n",
    "    public String getNom()\n",
    "\n",
    "    public void setPrix(double nouveauPrix)\n",
    "    {\n",
    "        if(nouveauPrix<=0)\n",
    "        {\n",
    "            throw new  IllegalArgumentException(\"Le prix doit être strictement positif\") ;\n",
    "        }\n",
    "        this.prix = nouveauPrix;\n",
    "    }\n",
    "}"
   ]
  }
 ],
 "metadata": {
  "kernelspec": {
   "display_name": "Java (rjk 2.2.0)",
   "language": "java",
   "name": "rapaio-jupyter-kernel"
  },
  "language_info": {
   "codemirror_mode": "java",
   "file_extension": ".jshell",
   "mimetype": "text/x-java-source",
   "name": "java",
   "nbconvert_exporter": "script",
   "pygments_lexer": "java",
   "version": "21.0.6+7-LTS"
  }
 },
 "nbformat": 4,
 "nbformat_minor": 2
}
